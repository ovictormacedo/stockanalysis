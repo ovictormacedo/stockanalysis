{
 "cells": [
  {
   "cell_type": "code",
   "execution_count": 1,
   "id": "0c8cf003-31a7-4cec-b728-9bc9526f87c2",
   "metadata": {
    "tags": []
   },
   "outputs": [
    {
     "name": "stdout",
     "output_type": "stream",
     "text": [
      "[*********************100%%**********************]  23 of 23 completed\n"
     ]
    }
   ],
   "source": [
    "import numpy as np\n",
    "import pandas as pd\n",
    "import yfinance as yf\n",
    "import warnings\n",
    "import json\n",
    "\n",
    "warnings.filterwarnings(\"ignore\")\n",
    "pd.options.display.float_format = '{:.4%}'.format\n",
    "\n",
    "params = json.loads(open('../params.json', 'r').read())\n",
    "\n",
    "# Date range\n",
    "start = \"2018-01-01\"\n",
    "end = \"2023-11-01\"\n",
    "\n",
    "# Tickers of assets\n",
    "industry_asset = json.loads(open('../stocks.json', 'r').read())\n",
    "assets = []\n",
    "for key, values in industry_asset.items():\n",
    "    for value in values:\n",
    "        assets.append(value)\n",
    "\n",
    "# Downloading data\n",
    "data = yf.download(assets, start=start, end=end, interval=\"1wk\")"
   ]
  },
  {
   "cell_type": "code",
   "execution_count": 2,
   "id": "911ba613-843f-4eef-b6d1-175a9d9cc9b2",
   "metadata": {
    "tags": []
   },
   "outputs": [],
   "source": [
    "from ta import trend, volume as volume_ta, momentum\n",
    "\n",
    "THRESHOLD = 10\n",
    "\n",
    "def get_trend(data_prices, i):\n",
    "    trend = float(0.5)\n",
    "    if 100 * (data_prices[i] / data_prices[i-1]) - 100 >= THRESHOLD:\n",
    "        trend = float(1.0)\n",
    "    elif 100 * (data_prices[i] / data_prices[i-1]) - 100 <= 0:\n",
    "        trend = float(0.0)\n",
    "    return trend\n",
    "\n",
    "def get_trend_open(data_open, data_close, i):\n",
    "    trend = float(0.5)\n",
    "    if 100 * (data_open[i] / data_close[i-1]) - 100 >= THRESHOLD:\n",
    "        trend = float(1.0)\n",
    "    elif 100 * (data_open[i] / data_close[i-1]) - 100 <= 0:\n",
    "        trend = float(0.0)\n",
    "    return trend\n",
    "\n",
    "def is_the_last_date(i, size):\n",
    "    return i == size-1\n",
    "\n",
    "indicators = {\n",
    "    asset: {\n",
    "        \"date\": [],\n",
    "        \"open\": [],\n",
    "        \"close\": [],\n",
    "        \"high\": [],\n",
    "        \"low\": [],\n",
    "        \"volume\": [],\n",
    "        \"trend_open\": [],\n",
    "        \"trend_close\": [],\n",
    "        \"trend_high\": [],\n",
    "        \"trend_low\": [],\n",
    "        \"next_trend_open\": [],\n",
    "        \"next_trend_close\": [],\n",
    "        \"next_trend_high\": [],\n",
    "        \"next_trend_low\": [],\n",
    "        \"aroon\": [],\n",
    "        \"aroon_down\": [],\n",
    "        \"aroon_up\": [],\n",
    "        \"cmf\": [],\n",
    "        \"mfi\": [],\n",
    "        \"ppo\": [],\n",
    "        \"pvo\": [],\n",
    "        \"rsi\": [],\n",
    "        \"stc\": [],\n",
    "        \"volume_rsi\": [], \n",
    "        \"williamsr\": []\n",
    "    }\n",
    "    for asset in assets\n",
    "}\n",
    "\n",
    "dates = [d.to_pydatetime().strftime('%Y-%m-%d %H:%M:%S') for d in data.index]\n",
    "\n",
    "for asset in assets:\n",
    "    if int(dates[0][0:4]) > 2018:\n",
    "        print(f\"{int(dates[0][0:4])} is too new, skipping it.\")\n",
    "        continue\n",
    "\n",
    "    high = data[\"High\"][asset].astype(float)\n",
    "    low = data[\"Low\"][asset].astype(float)\n",
    "    open = data[\"Open\"][asset].astype(float)\n",
    "    close = data[\"Close\"][asset].astype(float)\n",
    "    volume = data[\"Volume\"][asset].astype(float)\n",
    "\n",
    "    # AROON indicator\n",
    "    aroon = trend.AroonIndicator(high, low).aroon_indicator()\n",
    "    aroon_down = trend.AroonIndicator(high, low).aroon_down()\n",
    "    aroon_up = trend.AroonIndicator(high, low).aroon_up()\n",
    "\n",
    "    # CMF indicator\n",
    "    indicator_calc = volume_ta.ChaikinMoneyFlowIndicator(high, low, close, volume)\n",
    "    cmf = indicator_calc.chaikin_money_flow()\n",
    "\n",
    "    # MFI indicator\n",
    "    mfi = volume_ta.MFIIndicator(high, low, close, volume).money_flow_index()\n",
    "\n",
    "    # PPO indicator\n",
    "    indicator_calc = momentum.PercentagePriceOscillator(close)\n",
    "    ppo = indicator_calc.ppo()\n",
    "\n",
    "    # PVO indicator\n",
    "    indicator_calc = momentum.PercentageVolumeOscillator(volume)\n",
    "    pvo = indicator_calc.pvo()\n",
    "\n",
    "    # RSI indicator\n",
    "    rsi = momentum.RSIIndicator(close).rsi()\n",
    "\n",
    "    # STC indicator\n",
    "    stc = trend.STCIndicator(close, 12, 5, 3, 3, 3).stc()\n",
    "\n",
    "    # VOLUME RSI indicator\n",
    "    volume_rsi = momentum.RSIIndicator(volume).rsi()\n",
    "\n",
    "    # WILLIAMS R indicator\n",
    "    williamsr = momentum.WilliamsRIndicator(high, low, close).williams_r()\n",
    "\n",
    "    data_len = len(williamsr)\n",
    "\n",
    "    first_not_nan = True\n",
    "    for i in range(1, data_len):\n",
    "        if (\n",
    "            not np.isnan(aroon[i]) and\n",
    "            not np.isnan(aroon_up[i]) and\n",
    "            not np.isnan(aroon_down[i]) and\n",
    "            not np.isnan(cmf[i]) and\n",
    "            not np.isnan(mfi[i]) and\n",
    "            not np.isnan(ppo[i]) and\n",
    "            not np.isnan(pvo[i]) and\n",
    "            not np.isnan(rsi[i]) and\n",
    "            not np.isnan(stc[i]) and\n",
    "            not np.isnan(volume_rsi[i]) and\n",
    "            not np.isnan(williamsr[i])\n",
    "        ):\n",
    "            if first_not_nan:\n",
    "                first_not_nan = False\n",
    "                continue\n",
    "\n",
    "            trend_high = get_trend(high, i)\n",
    "            trend_low = get_trend(low, i)\n",
    "            trend_open = get_trend_open(open, close, i)\n",
    "            trend_close = get_trend(close, i)\n",
    "\n",
    "            next_trend_high = float(0.0) if is_the_last_date(i, data_len) else get_trend(high, i+1)\n",
    "            next_trend_low = float(0.0) if is_the_last_date(i, data_len) else get_trend(low, i+1)\n",
    "            next_trend_open = float(0.0) if is_the_last_date(i, data_len) else get_trend_open(open, close, i+1)\n",
    "            next_trend_close = float(0.0) if is_the_last_date(i, data_len) else get_trend(close, i+1)\n",
    "\n",
    "            indicators[asset][\"date\"].append(dates[i])\n",
    "            indicators[asset][\"high\"].append(high[i])\n",
    "            indicators[asset][\"low\"].append(low[i])\n",
    "            indicators[asset][\"open\"].append(open[i])\n",
    "            indicators[asset][\"close\"].append(close[i])\n",
    "            indicators[asset][\"volume\"].append(close[i])\n",
    "            indicators[asset][\"aroon\"].append(aroon[i])\n",
    "            indicators[asset][\"aroon_down\"].append(aroon_down[i])\n",
    "            indicators[asset][\"aroon_up\"].append(aroon_up[i])\n",
    "            indicators[asset][\"cmf\"].append(cmf[i])\n",
    "            indicators[asset][\"mfi\"].append(mfi[i])\n",
    "            indicators[asset][\"ppo\"].append(ppo[i])\n",
    "            indicators[asset][\"pvo\"].append(pvo[i])\n",
    "            indicators[asset][\"rsi\"].append(rsi[i])\n",
    "            indicators[asset][\"stc\"].append(stc[i])\n",
    "            indicators[asset][\"volume_rsi\"].append(volume_rsi[i])\n",
    "            indicators[asset][\"williamsr\"].append(williamsr[i])\n",
    "            indicators[asset][\"trend_high\"].append(trend_high)\n",
    "            indicators[asset][\"trend_low\"].append(trend_low)\n",
    "            indicators[asset][\"trend_open\"].append(trend_open)\n",
    "            indicators[asset][\"trend_close\"].append(trend_close)\n",
    "            indicators[asset][\"next_trend_high\"].append(next_trend_high)\n",
    "            indicators[asset][\"next_trend_low\"].append(next_trend_low)\n",
    "            indicators[asset][\"next_trend_open\"].append(next_trend_open)\n",
    "            indicators[asset][\"next_trend_close\"].append(next_trend_close)"
   ]
  },
  {
   "cell_type": "code",
   "execution_count": 3,
   "id": "a146d846",
   "metadata": {
    "tags": []
   },
   "outputs": [],
   "source": [
    "from sklearn.preprocessing import MinMaxScaler\n",
    "\n",
    "indicators_reshaped = {\n",
    "    asset: {\n",
    "        \"open\": [],\n",
    "        \"close\": [],\n",
    "        \"high\": [],\n",
    "        \"low\": [],\n",
    "        \"volume\": [],\n",
    "        \"trend_open\": [],\n",
    "        \"trend_close\": [],\n",
    "        \"trend_high\": [],\n",
    "        \"trend_low\": [],\n",
    "        \"next_trend_open\": [],\n",
    "        \"next_trend_close\": [],\n",
    "        \"next_trend_high\": [],\n",
    "        \"next_trend_low\": [],\n",
    "        \"aroon\": [],\n",
    "        \"aroon_down\": [],\n",
    "        \"aroon_up\": [],\n",
    "        \"cmf\": [],\n",
    "        \"mfi\": [],\n",
    "        \"ppo\": [],\n",
    "        \"pvo\": [],\n",
    "        \"rsi\": [],\n",
    "        \"stc\": [],\n",
    "        \"volume_rsi\": [], \n",
    "        \"williamsr\": []\n",
    "    }\n",
    "    for asset in assets\n",
    "}\n",
    "\n",
    "indicators_scaled = {\n",
    "    asset: {\n",
    "        \"trend_open\": [],\n",
    "        \"trend_close\": [],\n",
    "        \"trend_high\": [],\n",
    "        \"trend_low\": [],\n",
    "        \"aroon\": [],\n",
    "        \"aroon_down\": [],\n",
    "        \"aroon_up\": [],\n",
    "        \"cmf\": [],\n",
    "        \"mfi\": [],\n",
    "        \"ppo\": [],\n",
    "        \"pvo\": [],\n",
    "        \"rsi\": [],\n",
    "        \"stc\": [],\n",
    "        \"volume_rsi\": [], \n",
    "        \"williamsr\": []\n",
    "    }\n",
    "    for asset in assets\n",
    "}\n",
    "\n",
    "indicators_scalers = {\n",
    "    asset: {\n",
    "        \"trend_open\": None,\n",
    "        \"trend_close\": None,\n",
    "        \"trend_high\": None,\n",
    "        \"trend_low\": None,\n",
    "        \"aroon\": None,\n",
    "        \"aroon_down\": None,\n",
    "        \"aroon_up\": None,\n",
    "        \"cmf\": None,\n",
    "        \"mfi\": None,\n",
    "        \"ppo\": None,\n",
    "        \"pvo\": None,\n",
    "        \"rsi\": None,\n",
    "        \"stc\": None,\n",
    "        \"volume_rsi\": None, \n",
    "        \"williamsr\": None\n",
    "    }\n",
    "    for asset in assets\n",
    "}\n",
    "\n",
    "for asset in assets:\n",
    "    # Reshape data\n",
    "    for index, row in indicators[asset].items():\n",
    "        if index not in [\"date\"]:\n",
    "            indicators_reshaped[asset][index] = np.array(row)\n",
    "            indicators_reshaped[asset][index] = indicators_reshaped[asset][index].reshape(-1, 1)\n",
    "\n",
    "    # Create scalers\n",
    "    for index, row in indicators_scalers[asset].items():\n",
    "        indicators_scalers[asset][index] = MinMaxScaler(feature_range=(0, 1))\n",
    "\n",
    "    # Discretize data\n",
    "    for index, row in indicators_reshaped[asset].items():\n",
    "        if index not in [\"open\", \"close\", \"high\", \"low\", \"volume\", \"next_trend_open\", \"next_trend_close\", \"next_trend_high\", \"next_trend_low\"]:\n",
    "            indicators_scaled[asset][index] = indicators_scalers[asset][index].fit_transform(indicators_reshaped[asset][index])"
   ]
  },
  {
   "cell_type": "code",
   "execution_count": 7,
   "id": "8ad0c844",
   "metadata": {
    "tags": []
   },
   "outputs": [
    {
     "name": "stderr",
     "output_type": "stream",
     "text": [
      "WARNING:absl:At this time, the v2.11+ optimizer `tf.keras.optimizers.RMSprop` runs slowly on M1/M2 Macs, please use the legacy Keras optimizer instead, located at `tf.keras.optimizers.legacy.RMSprop`.\n",
      "WARNING:absl:There is a known slowdown when using v2.11+ Keras optimizers on M1/M2 Macs. Falling back to the legacy Keras optimizer, i.e., `tf.keras.optimizers.legacy.RMSprop`.\n"
     ]
    },
    {
     "name": "stdout",
     "output_type": "stream",
     "text": [
      "Processing high TIMS3.SA\n",
      "INFO:tensorflow:Assets written to: trained-models/TIMS3.SA_high/assets\n"
     ]
    },
    {
     "name": "stderr",
     "output_type": "stream",
     "text": [
      "INFO:tensorflow:Assets written to: trained-models/TIMS3.SA_high/assets\n",
      "WARNING:absl:At this time, the v2.11+ optimizer `tf.keras.optimizers.RMSprop` runs slowly on M1/M2 Macs, please use the legacy Keras optimizer instead, located at `tf.keras.optimizers.legacy.RMSprop`.\n",
      "WARNING:absl:There is a known slowdown when using v2.11+ Keras optimizers on M1/M2 Macs. Falling back to the legacy Keras optimizer, i.e., `tf.keras.optimizers.legacy.RMSprop`.\n"
     ]
    },
    {
     "name": "stdout",
     "output_type": "stream",
     "text": [
      "Processing high VIVT3.SA\n",
      "INFO:tensorflow:Assets written to: trained-models/VIVT3.SA_high/assets\n"
     ]
    },
    {
     "name": "stderr",
     "output_type": "stream",
     "text": [
      "INFO:tensorflow:Assets written to: trained-models/VIVT3.SA_high/assets\n",
      "WARNING:absl:At this time, the v2.11+ optimizer `tf.keras.optimizers.RMSprop` runs slowly on M1/M2 Macs, please use the legacy Keras optimizer instead, located at `tf.keras.optimizers.legacy.RMSprop`.\n",
      "WARNING:absl:There is a known slowdown when using v2.11+ Keras optimizers on M1/M2 Macs. Falling back to the legacy Keras optimizer, i.e., `tf.keras.optimizers.legacy.RMSprop`.\n"
     ]
    },
    {
     "name": "stdout",
     "output_type": "stream",
     "text": [
      "Processing high SUZB3.SA\n",
      "INFO:tensorflow:Assets written to: trained-models/SUZB3.SA_high/assets\n"
     ]
    },
    {
     "name": "stderr",
     "output_type": "stream",
     "text": [
      "INFO:tensorflow:Assets written to: trained-models/SUZB3.SA_high/assets\n",
      "WARNING:absl:At this time, the v2.11+ optimizer `tf.keras.optimizers.RMSprop` runs slowly on M1/M2 Macs, please use the legacy Keras optimizer instead, located at `tf.keras.optimizers.legacy.RMSprop`.\n",
      "WARNING:absl:There is a known slowdown when using v2.11+ Keras optimizers on M1/M2 Macs. Falling back to the legacy Keras optimizer, i.e., `tf.keras.optimizers.legacy.RMSprop`.\n"
     ]
    },
    {
     "name": "stdout",
     "output_type": "stream",
     "text": [
      "Processing high KLBN11.SA\n",
      "INFO:tensorflow:Assets written to: trained-models/KLBN11.SA_high/assets\n"
     ]
    },
    {
     "name": "stderr",
     "output_type": "stream",
     "text": [
      "INFO:tensorflow:Assets written to: trained-models/KLBN11.SA_high/assets\n",
      "WARNING:absl:At this time, the v2.11+ optimizer `tf.keras.optimizers.RMSprop` runs slowly on M1/M2 Macs, please use the legacy Keras optimizer instead, located at `tf.keras.optimizers.legacy.RMSprop`.\n",
      "WARNING:absl:There is a known slowdown when using v2.11+ Keras optimizers on M1/M2 Macs. Falling back to the legacy Keras optimizer, i.e., `tf.keras.optimizers.legacy.RMSprop`.\n"
     ]
    },
    {
     "name": "stdout",
     "output_type": "stream",
     "text": [
      "Processing high CSAN3.SA\n",
      "INFO:tensorflow:Assets written to: trained-models/CSAN3.SA_high/assets\n"
     ]
    },
    {
     "name": "stderr",
     "output_type": "stream",
     "text": [
      "INFO:tensorflow:Assets written to: trained-models/CSAN3.SA_high/assets\n",
      "WARNING:absl:At this time, the v2.11+ optimizer `tf.keras.optimizers.RMSprop` runs slowly on M1/M2 Macs, please use the legacy Keras optimizer instead, located at `tf.keras.optimizers.legacy.RMSprop`.\n",
      "WARNING:absl:There is a known slowdown when using v2.11+ Keras optimizers on M1/M2 Macs. Falling back to the legacy Keras optimizer, i.e., `tf.keras.optimizers.legacy.RMSprop`.\n"
     ]
    },
    {
     "name": "stdout",
     "output_type": "stream",
     "text": [
      "Processing high VBBR3.SA\n",
      "INFO:tensorflow:Assets written to: trained-models/VBBR3.SA_high/assets\n"
     ]
    },
    {
     "name": "stderr",
     "output_type": "stream",
     "text": [
      "INFO:tensorflow:Assets written to: trained-models/VBBR3.SA_high/assets\n",
      "WARNING:absl:At this time, the v2.11+ optimizer `tf.keras.optimizers.RMSprop` runs slowly on M1/M2 Macs, please use the legacy Keras optimizer instead, located at `tf.keras.optimizers.legacy.RMSprop`.\n",
      "WARNING:absl:There is a known slowdown when using v2.11+ Keras optimizers on M1/M2 Macs. Falling back to the legacy Keras optimizer, i.e., `tf.keras.optimizers.legacy.RMSprop`.\n"
     ]
    },
    {
     "name": "stdout",
     "output_type": "stream",
     "text": [
      "Processing high PRIO3.SA\n",
      "INFO:tensorflow:Assets written to: trained-models/PRIO3.SA_high/assets\n"
     ]
    },
    {
     "name": "stderr",
     "output_type": "stream",
     "text": [
      "INFO:tensorflow:Assets written to: trained-models/PRIO3.SA_high/assets\n",
      "WARNING:absl:At this time, the v2.11+ optimizer `tf.keras.optimizers.RMSprop` runs slowly on M1/M2 Macs, please use the legacy Keras optimizer instead, located at `tf.keras.optimizers.legacy.RMSprop`.\n",
      "WARNING:absl:There is a known slowdown when using v2.11+ Keras optimizers on M1/M2 Macs. Falling back to the legacy Keras optimizer, i.e., `tf.keras.optimizers.legacy.RMSprop`.\n"
     ]
    },
    {
     "name": "stdout",
     "output_type": "stream",
     "text": [
      "Processing high UGPA3.SA\n",
      "INFO:tensorflow:Assets written to: trained-models/UGPA3.SA_high/assets\n"
     ]
    },
    {
     "name": "stderr",
     "output_type": "stream",
     "text": [
      "INFO:tensorflow:Assets written to: trained-models/UGPA3.SA_high/assets\n",
      "WARNING:absl:At this time, the v2.11+ optimizer `tf.keras.optimizers.RMSprop` runs slowly on M1/M2 Macs, please use the legacy Keras optimizer instead, located at `tf.keras.optimizers.legacy.RMSprop`.\n",
      "WARNING:absl:There is a known slowdown when using v2.11+ Keras optimizers on M1/M2 Macs. Falling back to the legacy Keras optimizer, i.e., `tf.keras.optimizers.legacy.RMSprop`.\n"
     ]
    },
    {
     "name": "stdout",
     "output_type": "stream",
     "text": [
      "Processing high ENAT3.SA\n",
      "INFO:tensorflow:Assets written to: trained-models/ENAT3.SA_high/assets\n"
     ]
    },
    {
     "name": "stderr",
     "output_type": "stream",
     "text": [
      "INFO:tensorflow:Assets written to: trained-models/ENAT3.SA_high/assets\n",
      "WARNING:absl:At this time, the v2.11+ optimizer `tf.keras.optimizers.RMSprop` runs slowly on M1/M2 Macs, please use the legacy Keras optimizer instead, located at `tf.keras.optimizers.legacy.RMSprop`.\n",
      "WARNING:absl:There is a known slowdown when using v2.11+ Keras optimizers on M1/M2 Macs. Falling back to the legacy Keras optimizer, i.e., `tf.keras.optimizers.legacy.RMSprop`.\n"
     ]
    },
    {
     "name": "stdout",
     "output_type": "stream",
     "text": [
      "Processing high PETR3.SA\n",
      "INFO:tensorflow:Assets written to: trained-models/PETR3.SA_high/assets\n"
     ]
    },
    {
     "name": "stderr",
     "output_type": "stream",
     "text": [
      "INFO:tensorflow:Assets written to: trained-models/PETR3.SA_high/assets\n",
      "WARNING:absl:At this time, the v2.11+ optimizer `tf.keras.optimizers.RMSprop` runs slowly on M1/M2 Macs, please use the legacy Keras optimizer instead, located at `tf.keras.optimizers.legacy.RMSprop`.\n",
      "WARNING:absl:There is a known slowdown when using v2.11+ Keras optimizers on M1/M2 Macs. Falling back to the legacy Keras optimizer, i.e., `tf.keras.optimizers.legacy.RMSprop`.\n"
     ]
    },
    {
     "name": "stdout",
     "output_type": "stream",
     "text": [
      "Processing high ENGI11.SA\n",
      "INFO:tensorflow:Assets written to: trained-models/ENGI11.SA_high/assets\n"
     ]
    },
    {
     "name": "stderr",
     "output_type": "stream",
     "text": [
      "INFO:tensorflow:Assets written to: trained-models/ENGI11.SA_high/assets\n",
      "WARNING:absl:At this time, the v2.11+ optimizer `tf.keras.optimizers.RMSprop` runs slowly on M1/M2 Macs, please use the legacy Keras optimizer instead, located at `tf.keras.optimizers.legacy.RMSprop`.\n",
      "WARNING:absl:There is a known slowdown when using v2.11+ Keras optimizers on M1/M2 Macs. Falling back to the legacy Keras optimizer, i.e., `tf.keras.optimizers.legacy.RMSprop`.\n"
     ]
    },
    {
     "name": "stdout",
     "output_type": "stream",
     "text": [
      "Processing high GPAR3.SA\n",
      "INFO:tensorflow:Assets written to: trained-models/GPAR3.SA_high/assets\n"
     ]
    },
    {
     "name": "stderr",
     "output_type": "stream",
     "text": [
      "INFO:tensorflow:Assets written to: trained-models/GPAR3.SA_high/assets\n",
      "WARNING:absl:At this time, the v2.11+ optimizer `tf.keras.optimizers.RMSprop` runs slowly on M1/M2 Macs, please use the legacy Keras optimizer instead, located at `tf.keras.optimizers.legacy.RMSprop`.\n",
      "WARNING:absl:There is a known slowdown when using v2.11+ Keras optimizers on M1/M2 Macs. Falling back to the legacy Keras optimizer, i.e., `tf.keras.optimizers.legacy.RMSprop`.\n"
     ]
    },
    {
     "name": "stdout",
     "output_type": "stream",
     "text": [
      "Processing high TAEE11.SA\n",
      "INFO:tensorflow:Assets written to: trained-models/TAEE11.SA_high/assets\n"
     ]
    },
    {
     "name": "stderr",
     "output_type": "stream",
     "text": [
      "INFO:tensorflow:Assets written to: trained-models/TAEE11.SA_high/assets\n",
      "WARNING:absl:At this time, the v2.11+ optimizer `tf.keras.optimizers.RMSprop` runs slowly on M1/M2 Macs, please use the legacy Keras optimizer instead, located at `tf.keras.optimizers.legacy.RMSprop`.\n",
      "WARNING:absl:There is a known slowdown when using v2.11+ Keras optimizers on M1/M2 Macs. Falling back to the legacy Keras optimizer, i.e., `tf.keras.optimizers.legacy.RMSprop`.\n"
     ]
    },
    {
     "name": "stdout",
     "output_type": "stream",
     "text": [
      "Processing high ALUP11.SA\n",
      "INFO:tensorflow:Assets written to: trained-models/ALUP11.SA_high/assets\n"
     ]
    },
    {
     "name": "stderr",
     "output_type": "stream",
     "text": [
      "INFO:tensorflow:Assets written to: trained-models/ALUP11.SA_high/assets\n",
      "WARNING:absl:At this time, the v2.11+ optimizer `tf.keras.optimizers.RMSprop` runs slowly on M1/M2 Macs, please use the legacy Keras optimizer instead, located at `tf.keras.optimizers.legacy.RMSprop`.\n",
      "WARNING:absl:There is a known slowdown when using v2.11+ Keras optimizers on M1/M2 Macs. Falling back to the legacy Keras optimizer, i.e., `tf.keras.optimizers.legacy.RMSprop`.\n"
     ]
    },
    {
     "name": "stdout",
     "output_type": "stream",
     "text": [
      "Processing high CPFE3.SA\n",
      "INFO:tensorflow:Assets written to: trained-models/CPFE3.SA_high/assets\n"
     ]
    },
    {
     "name": "stderr",
     "output_type": "stream",
     "text": [
      "INFO:tensorflow:Assets written to: trained-models/CPFE3.SA_high/assets\n",
      "WARNING:absl:At this time, the v2.11+ optimizer `tf.keras.optimizers.RMSprop` runs slowly on M1/M2 Macs, please use the legacy Keras optimizer instead, located at `tf.keras.optimizers.legacy.RMSprop`.\n",
      "WARNING:absl:There is a known slowdown when using v2.11+ Keras optimizers on M1/M2 Macs. Falling back to the legacy Keras optimizer, i.e., `tf.keras.optimizers.legacy.RMSprop`.\n"
     ]
    },
    {
     "name": "stdout",
     "output_type": "stream",
     "text": [
      "Processing high CMIG3.SA\n",
      "INFO:tensorflow:Assets written to: trained-models/CMIG3.SA_high/assets\n"
     ]
    },
    {
     "name": "stderr",
     "output_type": "stream",
     "text": [
      "INFO:tensorflow:Assets written to: trained-models/CMIG3.SA_high/assets\n",
      "WARNING:absl:At this time, the v2.11+ optimizer `tf.keras.optimizers.RMSprop` runs slowly on M1/M2 Macs, please use the legacy Keras optimizer instead, located at `tf.keras.optimizers.legacy.RMSprop`.\n",
      "WARNING:absl:There is a known slowdown when using v2.11+ Keras optimizers on M1/M2 Macs. Falling back to the legacy Keras optimizer, i.e., `tf.keras.optimizers.legacy.RMSprop`.\n"
     ]
    },
    {
     "name": "stdout",
     "output_type": "stream",
     "text": [
      "Processing high ELET3.SA\n",
      "INFO:tensorflow:Assets written to: trained-models/ELET3.SA_high/assets\n"
     ]
    },
    {
     "name": "stderr",
     "output_type": "stream",
     "text": [
      "INFO:tensorflow:Assets written to: trained-models/ELET3.SA_high/assets\n",
      "WARNING:absl:At this time, the v2.11+ optimizer `tf.keras.optimizers.RMSprop` runs slowly on M1/M2 Macs, please use the legacy Keras optimizer instead, located at `tf.keras.optimizers.legacy.RMSprop`.\n",
      "WARNING:absl:There is a known slowdown when using v2.11+ Keras optimizers on M1/M2 Macs. Falling back to the legacy Keras optimizer, i.e., `tf.keras.optimizers.legacy.RMSprop`.\n"
     ]
    },
    {
     "name": "stdout",
     "output_type": "stream",
     "text": [
      "Processing high EQTL3.SA\n",
      "INFO:tensorflow:Assets written to: trained-models/EQTL3.SA_high/assets\n"
     ]
    },
    {
     "name": "stderr",
     "output_type": "stream",
     "text": [
      "INFO:tensorflow:Assets written to: trained-models/EQTL3.SA_high/assets\n",
      "WARNING:absl:At this time, the v2.11+ optimizer `tf.keras.optimizers.RMSprop` runs slowly on M1/M2 Macs, please use the legacy Keras optimizer instead, located at `tf.keras.optimizers.legacy.RMSprop`.\n",
      "WARNING:absl:There is a known slowdown when using v2.11+ Keras optimizers on M1/M2 Macs. Falling back to the legacy Keras optimizer, i.e., `tf.keras.optimizers.legacy.RMSprop`.\n"
     ]
    },
    {
     "name": "stdout",
     "output_type": "stream",
     "text": [
      "Processing high EGIE3.SA\n",
      "INFO:tensorflow:Assets written to: trained-models/EGIE3.SA_high/assets\n"
     ]
    },
    {
     "name": "stderr",
     "output_type": "stream",
     "text": [
      "INFO:tensorflow:Assets written to: trained-models/EGIE3.SA_high/assets\n",
      "WARNING:absl:At this time, the v2.11+ optimizer `tf.keras.optimizers.RMSprop` runs slowly on M1/M2 Macs, please use the legacy Keras optimizer instead, located at `tf.keras.optimizers.legacy.RMSprop`.\n",
      "WARNING:absl:There is a known slowdown when using v2.11+ Keras optimizers on M1/M2 Macs. Falling back to the legacy Keras optimizer, i.e., `tf.keras.optimizers.legacy.RMSprop`.\n"
     ]
    },
    {
     "name": "stdout",
     "output_type": "stream",
     "text": [
      "Processing high VALE3.SA\n",
      "INFO:tensorflow:Assets written to: trained-models/VALE3.SA_high/assets\n"
     ]
    },
    {
     "name": "stderr",
     "output_type": "stream",
     "text": [
      "INFO:tensorflow:Assets written to: trained-models/VALE3.SA_high/assets\n",
      "WARNING:absl:At this time, the v2.11+ optimizer `tf.keras.optimizers.RMSprop` runs slowly on M1/M2 Macs, please use the legacy Keras optimizer instead, located at `tf.keras.optimizers.legacy.RMSprop`.\n",
      "WARNING:absl:There is a known slowdown when using v2.11+ Keras optimizers on M1/M2 Macs. Falling back to the legacy Keras optimizer, i.e., `tf.keras.optimizers.legacy.RMSprop`.\n"
     ]
    },
    {
     "name": "stdout",
     "output_type": "stream",
     "text": [
      "Processing high GGBR3.SA\n",
      "INFO:tensorflow:Assets written to: trained-models/GGBR3.SA_high/assets\n"
     ]
    },
    {
     "name": "stderr",
     "output_type": "stream",
     "text": [
      "INFO:tensorflow:Assets written to: trained-models/GGBR3.SA_high/assets\n",
      "WARNING:absl:At this time, the v2.11+ optimizer `tf.keras.optimizers.RMSprop` runs slowly on M1/M2 Macs, please use the legacy Keras optimizer instead, located at `tf.keras.optimizers.legacy.RMSprop`.\n",
      "WARNING:absl:There is a known slowdown when using v2.11+ Keras optimizers on M1/M2 Macs. Falling back to the legacy Keras optimizer, i.e., `tf.keras.optimizers.legacy.RMSprop`.\n"
     ]
    },
    {
     "name": "stdout",
     "output_type": "stream",
     "text": [
      "Processing high CSNA3.SA\n",
      "INFO:tensorflow:Assets written to: trained-models/CSNA3.SA_high/assets\n"
     ]
    },
    {
     "name": "stderr",
     "output_type": "stream",
     "text": [
      "INFO:tensorflow:Assets written to: trained-models/CSNA3.SA_high/assets\n",
      "WARNING:absl:At this time, the v2.11+ optimizer `tf.keras.optimizers.RMSprop` runs slowly on M1/M2 Macs, please use the legacy Keras optimizer instead, located at `tf.keras.optimizers.legacy.RMSprop`.\n",
      "WARNING:absl:There is a known slowdown when using v2.11+ Keras optimizers on M1/M2 Macs. Falling back to the legacy Keras optimizer, i.e., `tf.keras.optimizers.legacy.RMSprop`.\n"
     ]
    },
    {
     "name": "stdout",
     "output_type": "stream",
     "text": [
      "Processing high FESA4.SA\n",
      "INFO:tensorflow:Assets written to: trained-models/FESA4.SA_high/assets\n"
     ]
    },
    {
     "name": "stderr",
     "output_type": "stream",
     "text": [
      "INFO:tensorflow:Assets written to: trained-models/FESA4.SA_high/assets\n"
     ]
    }
   ],
   "source": [
    "import sys\n",
    "import os\n",
    "os.environ['TF_CPP_MIN_LOG_LEVEL'] = '1'\n",
    "import tensorflow as tf\n",
    "\n",
    "keras = tf.keras\n",
    "layers = tf.keras.layers\n",
    "activations = tf.keras.activations\n",
    "\n",
    "# Receiving parameters\n",
    "OUTPUT_MODEL_PATH = \"trained-models/\"\n",
    "EPOCHS = 10000\n",
    "\n",
    "for asset in assets:\n",
    "    print(f\"Processing high {asset}\")\n",
    "\n",
    "    processed_data = []\n",
    "    ticker_date = indicators[asset][\"date\"][-1]\n",
    "    number_of_lines = len(indicators_scaled[asset][\"aroon\"])\n",
    "    for i in range(0, number_of_lines):\n",
    "        if ticker_date == indicators[asset][\"date\"][i]:\n",
    "            break\n",
    "\n",
    "        processed_data.append([\n",
    "            indicators[asset][\"date\"][i],\n",
    "            [indicators[asset][\"next_trend_high\"][i]],\n",
    "            indicators_scaled[asset][\"trend_high\"][i],\n",
    "            indicators_scaled[asset][\"trend_low\"][i],\n",
    "            indicators_scaled[asset][\"trend_open\"][i],\n",
    "            indicators_scaled[asset][\"trend_close\"][i],\n",
    "            indicators_scaled[asset][\"aroon\"][i],\n",
    "            indicators_scaled[asset][\"aroon_down\"][i],\n",
    "            indicators_scaled[asset][\"aroon_up\"][i],\n",
    "            indicators_scaled[asset][\"cmf\"][i],\n",
    "            indicators_scaled[asset][\"mfi\"][i],\n",
    "            indicators_scaled[asset][\"ppo\"][i],\n",
    "            indicators_scaled[asset][\"pvo\"][i],\n",
    "            indicators_scaled[asset][\"rsi\"][i],\n",
    "            indicators_scaled[asset][\"stc\"][i],\n",
    "            indicators_scaled[asset][\"williamsr\"][i]\n",
    "        ])\n",
    "\n",
    "    # Model training\n",
    "    train_input_data_x = np.array([d[2:] for d in processed_data])\n",
    "    train_input_data_y = np.array([d[1:2] for d in processed_data])\n",
    "\n",
    "    # Define Sequential model\n",
    "    model = keras.Sequential()\n",
    "    model.add(layers.Dense(len(train_input_data_x[0]), input_shape=(len(train_input_data_x[0]),), activation=\"sigmoid\", name=\"layer1\"))\n",
    "    model.add(layers.Dense(20, activation=\"sigmoid\", name=\"layer2\"))\n",
    "    model.add(layers.Dense(10, activation=\"sigmoid\", name=\"layer3\"))\n",
    "    model.add(layers.Dense(1, name=\"layer4\"))\n",
    "\n",
    "    model.compile(\n",
    "        optimizer=keras.optimizers.RMSprop(),  # Optimizer\n",
    "        # Loss function to minimize\n",
    "        loss=keras.losses.MeanSquaredError(),\n",
    "    )\n",
    "\n",
    "    model_trained = model.fit(\n",
    "        train_input_data_x,\n",
    "        train_input_data_y,\n",
    "        batch_size=512,\n",
    "        epochs=int(EPOCHS),\n",
    "        verbose=0\n",
    "    )\n",
    "\n",
    "    model.save(f\"{OUTPUT_MODEL_PATH}{asset}_high\")"
   ]
  },
  {
   "cell_type": "code",
   "execution_count": 6,
   "id": "f4e601a5",
   "metadata": {
    "tags": []
   },
   "outputs": [
    {
     "name": "stderr",
     "output_type": "stream",
     "text": [
      "WARNING:absl:At this time, the v2.11+ optimizer `tf.keras.optimizers.RMSprop` runs slowly on M1/M2 Macs, please use the legacy Keras optimizer instead, located at `tf.keras.optimizers.legacy.RMSprop`.\n",
      "WARNING:absl:There is a known slowdown when using v2.11+ Keras optimizers on M1/M2 Macs. Falling back to the legacy Keras optimizer, i.e., `tf.keras.optimizers.legacy.RMSprop`.\n"
     ]
    },
    {
     "name": "stdout",
     "output_type": "stream",
     "text": [
      "Processing low TIMS3.SA\n",
      "INFO:tensorflow:Assets written to: trained-models/TIMS3.SA_low/assets\n"
     ]
    },
    {
     "name": "stderr",
     "output_type": "stream",
     "text": [
      "INFO:tensorflow:Assets written to: trained-models/TIMS3.SA_low/assets\n",
      "WARNING:absl:At this time, the v2.11+ optimizer `tf.keras.optimizers.RMSprop` runs slowly on M1/M2 Macs, please use the legacy Keras optimizer instead, located at `tf.keras.optimizers.legacy.RMSprop`.\n",
      "WARNING:absl:There is a known slowdown when using v2.11+ Keras optimizers on M1/M2 Macs. Falling back to the legacy Keras optimizer, i.e., `tf.keras.optimizers.legacy.RMSprop`.\n"
     ]
    },
    {
     "name": "stdout",
     "output_type": "stream",
     "text": [
      "Processing low VIVT3.SA\n",
      "INFO:tensorflow:Assets written to: trained-models/VIVT3.SA_low/assets\n"
     ]
    },
    {
     "name": "stderr",
     "output_type": "stream",
     "text": [
      "INFO:tensorflow:Assets written to: trained-models/VIVT3.SA_low/assets\n",
      "WARNING:absl:At this time, the v2.11+ optimizer `tf.keras.optimizers.RMSprop` runs slowly on M1/M2 Macs, please use the legacy Keras optimizer instead, located at `tf.keras.optimizers.legacy.RMSprop`.\n",
      "WARNING:absl:There is a known slowdown when using v2.11+ Keras optimizers on M1/M2 Macs. Falling back to the legacy Keras optimizer, i.e., `tf.keras.optimizers.legacy.RMSprop`.\n"
     ]
    },
    {
     "name": "stdout",
     "output_type": "stream",
     "text": [
      "Processing low SUZB3.SA\n",
      "INFO:tensorflow:Assets written to: trained-models/SUZB3.SA_low/assets\n"
     ]
    },
    {
     "name": "stderr",
     "output_type": "stream",
     "text": [
      "INFO:tensorflow:Assets written to: trained-models/SUZB3.SA_low/assets\n",
      "WARNING:absl:At this time, the v2.11+ optimizer `tf.keras.optimizers.RMSprop` runs slowly on M1/M2 Macs, please use the legacy Keras optimizer instead, located at `tf.keras.optimizers.legacy.RMSprop`.\n",
      "WARNING:absl:There is a known slowdown when using v2.11+ Keras optimizers on M1/M2 Macs. Falling back to the legacy Keras optimizer, i.e., `tf.keras.optimizers.legacy.RMSprop`.\n"
     ]
    },
    {
     "name": "stdout",
     "output_type": "stream",
     "text": [
      "Processing low KLBN11.SA\n",
      "INFO:tensorflow:Assets written to: trained-models/KLBN11.SA_low/assets\n"
     ]
    },
    {
     "name": "stderr",
     "output_type": "stream",
     "text": [
      "INFO:tensorflow:Assets written to: trained-models/KLBN11.SA_low/assets\n",
      "WARNING:absl:At this time, the v2.11+ optimizer `tf.keras.optimizers.RMSprop` runs slowly on M1/M2 Macs, please use the legacy Keras optimizer instead, located at `tf.keras.optimizers.legacy.RMSprop`.\n",
      "WARNING:absl:There is a known slowdown when using v2.11+ Keras optimizers on M1/M2 Macs. Falling back to the legacy Keras optimizer, i.e., `tf.keras.optimizers.legacy.RMSprop`.\n"
     ]
    },
    {
     "name": "stdout",
     "output_type": "stream",
     "text": [
      "Processing low CSAN3.SA\n",
      "INFO:tensorflow:Assets written to: trained-models/CSAN3.SA_low/assets\n"
     ]
    },
    {
     "name": "stderr",
     "output_type": "stream",
     "text": [
      "INFO:tensorflow:Assets written to: trained-models/CSAN3.SA_low/assets\n",
      "WARNING:absl:At this time, the v2.11+ optimizer `tf.keras.optimizers.RMSprop` runs slowly on M1/M2 Macs, please use the legacy Keras optimizer instead, located at `tf.keras.optimizers.legacy.RMSprop`.\n",
      "WARNING:absl:There is a known slowdown when using v2.11+ Keras optimizers on M1/M2 Macs. Falling back to the legacy Keras optimizer, i.e., `tf.keras.optimizers.legacy.RMSprop`.\n"
     ]
    },
    {
     "name": "stdout",
     "output_type": "stream",
     "text": [
      "Processing low VBBR3.SA\n",
      "INFO:tensorflow:Assets written to: trained-models/VBBR3.SA_low/assets\n"
     ]
    },
    {
     "name": "stderr",
     "output_type": "stream",
     "text": [
      "INFO:tensorflow:Assets written to: trained-models/VBBR3.SA_low/assets\n",
      "WARNING:absl:At this time, the v2.11+ optimizer `tf.keras.optimizers.RMSprop` runs slowly on M1/M2 Macs, please use the legacy Keras optimizer instead, located at `tf.keras.optimizers.legacy.RMSprop`.\n",
      "WARNING:absl:There is a known slowdown when using v2.11+ Keras optimizers on M1/M2 Macs. Falling back to the legacy Keras optimizer, i.e., `tf.keras.optimizers.legacy.RMSprop`.\n"
     ]
    },
    {
     "name": "stdout",
     "output_type": "stream",
     "text": [
      "Processing low PRIO3.SA\n",
      "INFO:tensorflow:Assets written to: trained-models/PRIO3.SA_low/assets\n"
     ]
    },
    {
     "name": "stderr",
     "output_type": "stream",
     "text": [
      "INFO:tensorflow:Assets written to: trained-models/PRIO3.SA_low/assets\n",
      "WARNING:absl:At this time, the v2.11+ optimizer `tf.keras.optimizers.RMSprop` runs slowly on M1/M2 Macs, please use the legacy Keras optimizer instead, located at `tf.keras.optimizers.legacy.RMSprop`.\n",
      "WARNING:absl:There is a known slowdown when using v2.11+ Keras optimizers on M1/M2 Macs. Falling back to the legacy Keras optimizer, i.e., `tf.keras.optimizers.legacy.RMSprop`.\n"
     ]
    },
    {
     "name": "stdout",
     "output_type": "stream",
     "text": [
      "Processing low UGPA3.SA\n",
      "INFO:tensorflow:Assets written to: trained-models/UGPA3.SA_low/assets\n"
     ]
    },
    {
     "name": "stderr",
     "output_type": "stream",
     "text": [
      "INFO:tensorflow:Assets written to: trained-models/UGPA3.SA_low/assets\n",
      "WARNING:absl:At this time, the v2.11+ optimizer `tf.keras.optimizers.RMSprop` runs slowly on M1/M2 Macs, please use the legacy Keras optimizer instead, located at `tf.keras.optimizers.legacy.RMSprop`.\n",
      "WARNING:absl:There is a known slowdown when using v2.11+ Keras optimizers on M1/M2 Macs. Falling back to the legacy Keras optimizer, i.e., `tf.keras.optimizers.legacy.RMSprop`.\n"
     ]
    },
    {
     "name": "stdout",
     "output_type": "stream",
     "text": [
      "Processing low ENAT3.SA\n",
      "INFO:tensorflow:Assets written to: trained-models/ENAT3.SA_low/assets\n"
     ]
    },
    {
     "name": "stderr",
     "output_type": "stream",
     "text": [
      "INFO:tensorflow:Assets written to: trained-models/ENAT3.SA_low/assets\n",
      "WARNING:absl:At this time, the v2.11+ optimizer `tf.keras.optimizers.RMSprop` runs slowly on M1/M2 Macs, please use the legacy Keras optimizer instead, located at `tf.keras.optimizers.legacy.RMSprop`.\n",
      "WARNING:absl:There is a known slowdown when using v2.11+ Keras optimizers on M1/M2 Macs. Falling back to the legacy Keras optimizer, i.e., `tf.keras.optimizers.legacy.RMSprop`.\n"
     ]
    },
    {
     "name": "stdout",
     "output_type": "stream",
     "text": [
      "Processing low PETR3.SA\n",
      "INFO:tensorflow:Assets written to: trained-models/PETR3.SA_low/assets\n"
     ]
    },
    {
     "name": "stderr",
     "output_type": "stream",
     "text": [
      "INFO:tensorflow:Assets written to: trained-models/PETR3.SA_low/assets\n",
      "WARNING:absl:At this time, the v2.11+ optimizer `tf.keras.optimizers.RMSprop` runs slowly on M1/M2 Macs, please use the legacy Keras optimizer instead, located at `tf.keras.optimizers.legacy.RMSprop`.\n",
      "WARNING:absl:There is a known slowdown when using v2.11+ Keras optimizers on M1/M2 Macs. Falling back to the legacy Keras optimizer, i.e., `tf.keras.optimizers.legacy.RMSprop`.\n"
     ]
    },
    {
     "name": "stdout",
     "output_type": "stream",
     "text": [
      "Processing low ENGI11.SA\n",
      "INFO:tensorflow:Assets written to: trained-models/ENGI11.SA_low/assets\n"
     ]
    },
    {
     "name": "stderr",
     "output_type": "stream",
     "text": [
      "INFO:tensorflow:Assets written to: trained-models/ENGI11.SA_low/assets\n",
      "WARNING:absl:At this time, the v2.11+ optimizer `tf.keras.optimizers.RMSprop` runs slowly on M1/M2 Macs, please use the legacy Keras optimizer instead, located at `tf.keras.optimizers.legacy.RMSprop`.\n",
      "WARNING:absl:There is a known slowdown when using v2.11+ Keras optimizers on M1/M2 Macs. Falling back to the legacy Keras optimizer, i.e., `tf.keras.optimizers.legacy.RMSprop`.\n"
     ]
    },
    {
     "name": "stdout",
     "output_type": "stream",
     "text": [
      "Processing low GPAR3.SA\n",
      "INFO:tensorflow:Assets written to: trained-models/GPAR3.SA_low/assets\n"
     ]
    },
    {
     "name": "stderr",
     "output_type": "stream",
     "text": [
      "INFO:tensorflow:Assets written to: trained-models/GPAR3.SA_low/assets\n",
      "WARNING:absl:At this time, the v2.11+ optimizer `tf.keras.optimizers.RMSprop` runs slowly on M1/M2 Macs, please use the legacy Keras optimizer instead, located at `tf.keras.optimizers.legacy.RMSprop`.\n",
      "WARNING:absl:There is a known slowdown when using v2.11+ Keras optimizers on M1/M2 Macs. Falling back to the legacy Keras optimizer, i.e., `tf.keras.optimizers.legacy.RMSprop`.\n"
     ]
    },
    {
     "name": "stdout",
     "output_type": "stream",
     "text": [
      "Processing low TAEE11.SA\n",
      "INFO:tensorflow:Assets written to: trained-models/TAEE11.SA_low/assets\n"
     ]
    },
    {
     "name": "stderr",
     "output_type": "stream",
     "text": [
      "INFO:tensorflow:Assets written to: trained-models/TAEE11.SA_low/assets\n",
      "WARNING:absl:At this time, the v2.11+ optimizer `tf.keras.optimizers.RMSprop` runs slowly on M1/M2 Macs, please use the legacy Keras optimizer instead, located at `tf.keras.optimizers.legacy.RMSprop`.\n",
      "WARNING:absl:There is a known slowdown when using v2.11+ Keras optimizers on M1/M2 Macs. Falling back to the legacy Keras optimizer, i.e., `tf.keras.optimizers.legacy.RMSprop`.\n"
     ]
    },
    {
     "name": "stdout",
     "output_type": "stream",
     "text": [
      "Processing low ALUP11.SA\n",
      "INFO:tensorflow:Assets written to: trained-models/ALUP11.SA_low/assets\n"
     ]
    },
    {
     "name": "stderr",
     "output_type": "stream",
     "text": [
      "INFO:tensorflow:Assets written to: trained-models/ALUP11.SA_low/assets\n",
      "WARNING:absl:At this time, the v2.11+ optimizer `tf.keras.optimizers.RMSprop` runs slowly on M1/M2 Macs, please use the legacy Keras optimizer instead, located at `tf.keras.optimizers.legacy.RMSprop`.\n",
      "WARNING:absl:There is a known slowdown when using v2.11+ Keras optimizers on M1/M2 Macs. Falling back to the legacy Keras optimizer, i.e., `tf.keras.optimizers.legacy.RMSprop`.\n"
     ]
    },
    {
     "name": "stdout",
     "output_type": "stream",
     "text": [
      "Processing low CPFE3.SA\n",
      "INFO:tensorflow:Assets written to: trained-models/CPFE3.SA_low/assets\n"
     ]
    },
    {
     "name": "stderr",
     "output_type": "stream",
     "text": [
      "INFO:tensorflow:Assets written to: trained-models/CPFE3.SA_low/assets\n",
      "WARNING:absl:At this time, the v2.11+ optimizer `tf.keras.optimizers.RMSprop` runs slowly on M1/M2 Macs, please use the legacy Keras optimizer instead, located at `tf.keras.optimizers.legacy.RMSprop`.\n",
      "WARNING:absl:There is a known slowdown when using v2.11+ Keras optimizers on M1/M2 Macs. Falling back to the legacy Keras optimizer, i.e., `tf.keras.optimizers.legacy.RMSprop`.\n"
     ]
    },
    {
     "name": "stdout",
     "output_type": "stream",
     "text": [
      "Processing low CMIG3.SA\n",
      "INFO:tensorflow:Assets written to: trained-models/CMIG3.SA_low/assets\n"
     ]
    },
    {
     "name": "stderr",
     "output_type": "stream",
     "text": [
      "INFO:tensorflow:Assets written to: trained-models/CMIG3.SA_low/assets\n",
      "WARNING:absl:At this time, the v2.11+ optimizer `tf.keras.optimizers.RMSprop` runs slowly on M1/M2 Macs, please use the legacy Keras optimizer instead, located at `tf.keras.optimizers.legacy.RMSprop`.\n",
      "WARNING:absl:There is a known slowdown when using v2.11+ Keras optimizers on M1/M2 Macs. Falling back to the legacy Keras optimizer, i.e., `tf.keras.optimizers.legacy.RMSprop`.\n"
     ]
    },
    {
     "name": "stdout",
     "output_type": "stream",
     "text": [
      "Processing low ELET3.SA\n",
      "INFO:tensorflow:Assets written to: trained-models/ELET3.SA_low/assets\n"
     ]
    },
    {
     "name": "stderr",
     "output_type": "stream",
     "text": [
      "INFO:tensorflow:Assets written to: trained-models/ELET3.SA_low/assets\n",
      "WARNING:absl:At this time, the v2.11+ optimizer `tf.keras.optimizers.RMSprop` runs slowly on M1/M2 Macs, please use the legacy Keras optimizer instead, located at `tf.keras.optimizers.legacy.RMSprop`.\n",
      "WARNING:absl:There is a known slowdown when using v2.11+ Keras optimizers on M1/M2 Macs. Falling back to the legacy Keras optimizer, i.e., `tf.keras.optimizers.legacy.RMSprop`.\n"
     ]
    },
    {
     "name": "stdout",
     "output_type": "stream",
     "text": [
      "Processing low EQTL3.SA\n",
      "INFO:tensorflow:Assets written to: trained-models/EQTL3.SA_low/assets\n"
     ]
    },
    {
     "name": "stderr",
     "output_type": "stream",
     "text": [
      "INFO:tensorflow:Assets written to: trained-models/EQTL3.SA_low/assets\n",
      "WARNING:absl:At this time, the v2.11+ optimizer `tf.keras.optimizers.RMSprop` runs slowly on M1/M2 Macs, please use the legacy Keras optimizer instead, located at `tf.keras.optimizers.legacy.RMSprop`.\n",
      "WARNING:absl:There is a known slowdown when using v2.11+ Keras optimizers on M1/M2 Macs. Falling back to the legacy Keras optimizer, i.e., `tf.keras.optimizers.legacy.RMSprop`.\n"
     ]
    },
    {
     "name": "stdout",
     "output_type": "stream",
     "text": [
      "Processing low EGIE3.SA\n",
      "INFO:tensorflow:Assets written to: trained-models/EGIE3.SA_low/assets\n"
     ]
    },
    {
     "name": "stderr",
     "output_type": "stream",
     "text": [
      "INFO:tensorflow:Assets written to: trained-models/EGIE3.SA_low/assets\n",
      "WARNING:absl:At this time, the v2.11+ optimizer `tf.keras.optimizers.RMSprop` runs slowly on M1/M2 Macs, please use the legacy Keras optimizer instead, located at `tf.keras.optimizers.legacy.RMSprop`.\n",
      "WARNING:absl:There is a known slowdown when using v2.11+ Keras optimizers on M1/M2 Macs. Falling back to the legacy Keras optimizer, i.e., `tf.keras.optimizers.legacy.RMSprop`.\n"
     ]
    },
    {
     "name": "stdout",
     "output_type": "stream",
     "text": [
      "Processing low VALE3.SA\n",
      "INFO:tensorflow:Assets written to: trained-models/VALE3.SA_low/assets\n"
     ]
    },
    {
     "name": "stderr",
     "output_type": "stream",
     "text": [
      "INFO:tensorflow:Assets written to: trained-models/VALE3.SA_low/assets\n",
      "WARNING:absl:At this time, the v2.11+ optimizer `tf.keras.optimizers.RMSprop` runs slowly on M1/M2 Macs, please use the legacy Keras optimizer instead, located at `tf.keras.optimizers.legacy.RMSprop`.\n",
      "WARNING:absl:There is a known slowdown when using v2.11+ Keras optimizers on M1/M2 Macs. Falling back to the legacy Keras optimizer, i.e., `tf.keras.optimizers.legacy.RMSprop`.\n"
     ]
    },
    {
     "name": "stdout",
     "output_type": "stream",
     "text": [
      "Processing low GGBR3.SA\n",
      "INFO:tensorflow:Assets written to: trained-models/GGBR3.SA_low/assets\n"
     ]
    },
    {
     "name": "stderr",
     "output_type": "stream",
     "text": [
      "INFO:tensorflow:Assets written to: trained-models/GGBR3.SA_low/assets\n",
      "WARNING:absl:At this time, the v2.11+ optimizer `tf.keras.optimizers.RMSprop` runs slowly on M1/M2 Macs, please use the legacy Keras optimizer instead, located at `tf.keras.optimizers.legacy.RMSprop`.\n",
      "WARNING:absl:There is a known slowdown when using v2.11+ Keras optimizers on M1/M2 Macs. Falling back to the legacy Keras optimizer, i.e., `tf.keras.optimizers.legacy.RMSprop`.\n"
     ]
    },
    {
     "name": "stdout",
     "output_type": "stream",
     "text": [
      "Processing low CSNA3.SA\n",
      "INFO:tensorflow:Assets written to: trained-models/CSNA3.SA_low/assets\n"
     ]
    },
    {
     "name": "stderr",
     "output_type": "stream",
     "text": [
      "INFO:tensorflow:Assets written to: trained-models/CSNA3.SA_low/assets\n",
      "WARNING:absl:At this time, the v2.11+ optimizer `tf.keras.optimizers.RMSprop` runs slowly on M1/M2 Macs, please use the legacy Keras optimizer instead, located at `tf.keras.optimizers.legacy.RMSprop`.\n",
      "WARNING:absl:There is a known slowdown when using v2.11+ Keras optimizers on M1/M2 Macs. Falling back to the legacy Keras optimizer, i.e., `tf.keras.optimizers.legacy.RMSprop`.\n"
     ]
    },
    {
     "name": "stdout",
     "output_type": "stream",
     "text": [
      "Processing low FESA4.SA\n",
      "INFO:tensorflow:Assets written to: trained-models/FESA4.SA_low/assets\n"
     ]
    },
    {
     "name": "stderr",
     "output_type": "stream",
     "text": [
      "INFO:tensorflow:Assets written to: trained-models/FESA4.SA_low/assets\n"
     ]
    }
   ],
   "source": [
    "import sys\n",
    "import os\n",
    "os.environ['TF_CPP_MIN_LOG_LEVEL'] = '1'\n",
    "import tensorflow as tf\n",
    "\n",
    "keras = tf.keras\n",
    "layers = tf.keras.layers\n",
    "activations = tf.keras.activations\n",
    "\n",
    "# Receiving parameters\n",
    "OUTPUT_MODEL_PATH = \"trained-models/\"\n",
    "EPOCHS = 10000\n",
    "\n",
    "for asset in assets:\n",
    "    print(f\"Processing low {asset}\")\n",
    "\n",
    "    processed_data = []\n",
    "    ticker_date = indicators[asset][\"date\"][-1]\n",
    "    number_of_lines = len(indicators_scaled[asset][\"aroon\"])\n",
    "    for i in range(0, number_of_lines):\n",
    "        if ticker_date == indicators[asset][\"date\"][i]:\n",
    "            break\n",
    "\n",
    "        processed_data.append([\n",
    "            indicators[asset][\"date\"][i],\n",
    "            [indicators[asset][\"next_trend_low\"][i]],\n",
    "            indicators_scaled[asset][\"trend_high\"][i],\n",
    "            indicators_scaled[asset][\"trend_low\"][i],\n",
    "            indicators_scaled[asset][\"trend_open\"][i],\n",
    "            indicators_scaled[asset][\"trend_close\"][i],\n",
    "            indicators_scaled[asset][\"aroon\"][i],\n",
    "            indicators_scaled[asset][\"aroon_down\"][i],\n",
    "            indicators_scaled[asset][\"aroon_up\"][i],\n",
    "            indicators_scaled[asset][\"cmf\"][i],\n",
    "            indicators_scaled[asset][\"mfi\"][i],\n",
    "            indicators_scaled[asset][\"ppo\"][i],\n",
    "            indicators_scaled[asset][\"pvo\"][i],\n",
    "            indicators_scaled[asset][\"rsi\"][i],\n",
    "            indicators_scaled[asset][\"stc\"][i],\n",
    "            indicators_scaled[asset][\"williamsr\"][i]\n",
    "        ])\n",
    "\n",
    "    # Model training\n",
    "    train_input_data_x = np.array([d[2:] for d in processed_data])\n",
    "    train_input_data_y = np.array([d[1:2] for d in processed_data])\n",
    "\n",
    "    # Define Sequential model\n",
    "    model = keras.Sequential()\n",
    "    model.add(layers.Dense(len(train_input_data_x[0]), input_shape=(len(train_input_data_x[0]),), activation=\"sigmoid\", name=\"layer1\"))\n",
    "    model.add(layers.Dense(20, activation=\"sigmoid\", name=\"layer2\"))\n",
    "    model.add(layers.Dense(10, activation=\"sigmoid\", name=\"layer3\"))\n",
    "    model.add(layers.Dense(1, name=\"layer4\"))\n",
    "\n",
    "    model.compile(\n",
    "        optimizer=keras.optimizers.RMSprop(),  # Optimizer\n",
    "        # Loss function to minimize\n",
    "        loss=keras.losses.MeanSquaredError(),\n",
    "    )\n",
    "\n",
    "    model_trained = model.fit(\n",
    "        train_input_data_x,\n",
    "        train_input_data_y,\n",
    "        batch_size=512,\n",
    "        epochs=int(EPOCHS),\n",
    "        verbose=0\n",
    "    )\n",
    "\n",
    "    model.save(f\"{OUTPUT_MODEL_PATH}{asset}_low\")"
   ]
  },
  {
   "cell_type": "code",
   "execution_count": 5,
   "id": "a3bbf3ad",
   "metadata": {
    "tags": []
   },
   "outputs": [
    {
     "name": "stderr",
     "output_type": "stream",
     "text": [
      "WARNING:absl:At this time, the v2.11+ optimizer `tf.keras.optimizers.RMSprop` runs slowly on M1/M2 Macs, please use the legacy Keras optimizer instead, located at `tf.keras.optimizers.legacy.RMSprop`.\n",
      "WARNING:absl:There is a known slowdown when using v2.11+ Keras optimizers on M1/M2 Macs. Falling back to the legacy Keras optimizer, i.e., `tf.keras.optimizers.legacy.RMSprop`.\n"
     ]
    },
    {
     "name": "stdout",
     "output_type": "stream",
     "text": [
      "Processing open TIMS3.SA\n",
      "INFO:tensorflow:Assets written to: trained-models/TIMS3.SA_open/assets\n"
     ]
    },
    {
     "name": "stderr",
     "output_type": "stream",
     "text": [
      "INFO:tensorflow:Assets written to: trained-models/TIMS3.SA_open/assets\n",
      "WARNING:absl:At this time, the v2.11+ optimizer `tf.keras.optimizers.RMSprop` runs slowly on M1/M2 Macs, please use the legacy Keras optimizer instead, located at `tf.keras.optimizers.legacy.RMSprop`.\n",
      "WARNING:absl:There is a known slowdown when using v2.11+ Keras optimizers on M1/M2 Macs. Falling back to the legacy Keras optimizer, i.e., `tf.keras.optimizers.legacy.RMSprop`.\n"
     ]
    },
    {
     "name": "stdout",
     "output_type": "stream",
     "text": [
      "Processing open VIVT3.SA\n",
      "INFO:tensorflow:Assets written to: trained-models/VIVT3.SA_open/assets\n"
     ]
    },
    {
     "name": "stderr",
     "output_type": "stream",
     "text": [
      "INFO:tensorflow:Assets written to: trained-models/VIVT3.SA_open/assets\n",
      "WARNING:absl:At this time, the v2.11+ optimizer `tf.keras.optimizers.RMSprop` runs slowly on M1/M2 Macs, please use the legacy Keras optimizer instead, located at `tf.keras.optimizers.legacy.RMSprop`.\n",
      "WARNING:absl:There is a known slowdown when using v2.11+ Keras optimizers on M1/M2 Macs. Falling back to the legacy Keras optimizer, i.e., `tf.keras.optimizers.legacy.RMSprop`.\n"
     ]
    },
    {
     "name": "stdout",
     "output_type": "stream",
     "text": [
      "Processing open SUZB3.SA\n",
      "INFO:tensorflow:Assets written to: trained-models/SUZB3.SA_open/assets\n"
     ]
    },
    {
     "name": "stderr",
     "output_type": "stream",
     "text": [
      "INFO:tensorflow:Assets written to: trained-models/SUZB3.SA_open/assets\n",
      "WARNING:absl:At this time, the v2.11+ optimizer `tf.keras.optimizers.RMSprop` runs slowly on M1/M2 Macs, please use the legacy Keras optimizer instead, located at `tf.keras.optimizers.legacy.RMSprop`.\n",
      "WARNING:absl:There is a known slowdown when using v2.11+ Keras optimizers on M1/M2 Macs. Falling back to the legacy Keras optimizer, i.e., `tf.keras.optimizers.legacy.RMSprop`.\n"
     ]
    },
    {
     "name": "stdout",
     "output_type": "stream",
     "text": [
      "Processing open KLBN11.SA\n",
      "INFO:tensorflow:Assets written to: trained-models/KLBN11.SA_open/assets\n"
     ]
    },
    {
     "name": "stderr",
     "output_type": "stream",
     "text": [
      "INFO:tensorflow:Assets written to: trained-models/KLBN11.SA_open/assets\n",
      "WARNING:absl:At this time, the v2.11+ optimizer `tf.keras.optimizers.RMSprop` runs slowly on M1/M2 Macs, please use the legacy Keras optimizer instead, located at `tf.keras.optimizers.legacy.RMSprop`.\n",
      "WARNING:absl:There is a known slowdown when using v2.11+ Keras optimizers on M1/M2 Macs. Falling back to the legacy Keras optimizer, i.e., `tf.keras.optimizers.legacy.RMSprop`.\n"
     ]
    },
    {
     "name": "stdout",
     "output_type": "stream",
     "text": [
      "Processing open CSAN3.SA\n",
      "INFO:tensorflow:Assets written to: trained-models/CSAN3.SA_open/assets\n"
     ]
    },
    {
     "name": "stderr",
     "output_type": "stream",
     "text": [
      "INFO:tensorflow:Assets written to: trained-models/CSAN3.SA_open/assets\n",
      "WARNING:absl:At this time, the v2.11+ optimizer `tf.keras.optimizers.RMSprop` runs slowly on M1/M2 Macs, please use the legacy Keras optimizer instead, located at `tf.keras.optimizers.legacy.RMSprop`.\n",
      "WARNING:absl:There is a known slowdown when using v2.11+ Keras optimizers on M1/M2 Macs. Falling back to the legacy Keras optimizer, i.e., `tf.keras.optimizers.legacy.RMSprop`.\n"
     ]
    },
    {
     "name": "stdout",
     "output_type": "stream",
     "text": [
      "Processing open VBBR3.SA\n",
      "INFO:tensorflow:Assets written to: trained-models/VBBR3.SA_open/assets\n"
     ]
    },
    {
     "name": "stderr",
     "output_type": "stream",
     "text": [
      "INFO:tensorflow:Assets written to: trained-models/VBBR3.SA_open/assets\n",
      "WARNING:absl:At this time, the v2.11+ optimizer `tf.keras.optimizers.RMSprop` runs slowly on M1/M2 Macs, please use the legacy Keras optimizer instead, located at `tf.keras.optimizers.legacy.RMSprop`.\n",
      "WARNING:absl:There is a known slowdown when using v2.11+ Keras optimizers on M1/M2 Macs. Falling back to the legacy Keras optimizer, i.e., `tf.keras.optimizers.legacy.RMSprop`.\n"
     ]
    },
    {
     "name": "stdout",
     "output_type": "stream",
     "text": [
      "Processing open PRIO3.SA\n",
      "INFO:tensorflow:Assets written to: trained-models/PRIO3.SA_open/assets\n"
     ]
    },
    {
     "name": "stderr",
     "output_type": "stream",
     "text": [
      "INFO:tensorflow:Assets written to: trained-models/PRIO3.SA_open/assets\n",
      "WARNING:absl:At this time, the v2.11+ optimizer `tf.keras.optimizers.RMSprop` runs slowly on M1/M2 Macs, please use the legacy Keras optimizer instead, located at `tf.keras.optimizers.legacy.RMSprop`.\n",
      "WARNING:absl:There is a known slowdown when using v2.11+ Keras optimizers on M1/M2 Macs. Falling back to the legacy Keras optimizer, i.e., `tf.keras.optimizers.legacy.RMSprop`.\n"
     ]
    },
    {
     "name": "stdout",
     "output_type": "stream",
     "text": [
      "Processing open UGPA3.SA\n",
      "INFO:tensorflow:Assets written to: trained-models/UGPA3.SA_open/assets\n"
     ]
    },
    {
     "name": "stderr",
     "output_type": "stream",
     "text": [
      "INFO:tensorflow:Assets written to: trained-models/UGPA3.SA_open/assets\n",
      "WARNING:absl:At this time, the v2.11+ optimizer `tf.keras.optimizers.RMSprop` runs slowly on M1/M2 Macs, please use the legacy Keras optimizer instead, located at `tf.keras.optimizers.legacy.RMSprop`.\n",
      "WARNING:absl:There is a known slowdown when using v2.11+ Keras optimizers on M1/M2 Macs. Falling back to the legacy Keras optimizer, i.e., `tf.keras.optimizers.legacy.RMSprop`.\n"
     ]
    },
    {
     "name": "stdout",
     "output_type": "stream",
     "text": [
      "Processing open ENAT3.SA\n",
      "INFO:tensorflow:Assets written to: trained-models/ENAT3.SA_open/assets\n"
     ]
    },
    {
     "name": "stderr",
     "output_type": "stream",
     "text": [
      "INFO:tensorflow:Assets written to: trained-models/ENAT3.SA_open/assets\n",
      "WARNING:absl:At this time, the v2.11+ optimizer `tf.keras.optimizers.RMSprop` runs slowly on M1/M2 Macs, please use the legacy Keras optimizer instead, located at `tf.keras.optimizers.legacy.RMSprop`.\n",
      "WARNING:absl:There is a known slowdown when using v2.11+ Keras optimizers on M1/M2 Macs. Falling back to the legacy Keras optimizer, i.e., `tf.keras.optimizers.legacy.RMSprop`.\n"
     ]
    },
    {
     "name": "stdout",
     "output_type": "stream",
     "text": [
      "Processing open PETR3.SA\n",
      "INFO:tensorflow:Assets written to: trained-models/PETR3.SA_open/assets\n"
     ]
    },
    {
     "name": "stderr",
     "output_type": "stream",
     "text": [
      "INFO:tensorflow:Assets written to: trained-models/PETR3.SA_open/assets\n",
      "WARNING:absl:At this time, the v2.11+ optimizer `tf.keras.optimizers.RMSprop` runs slowly on M1/M2 Macs, please use the legacy Keras optimizer instead, located at `tf.keras.optimizers.legacy.RMSprop`.\n",
      "WARNING:absl:There is a known slowdown when using v2.11+ Keras optimizers on M1/M2 Macs. Falling back to the legacy Keras optimizer, i.e., `tf.keras.optimizers.legacy.RMSprop`.\n"
     ]
    },
    {
     "name": "stdout",
     "output_type": "stream",
     "text": [
      "Processing open ENGI11.SA\n",
      "INFO:tensorflow:Assets written to: trained-models/ENGI11.SA_open/assets\n"
     ]
    },
    {
     "name": "stderr",
     "output_type": "stream",
     "text": [
      "INFO:tensorflow:Assets written to: trained-models/ENGI11.SA_open/assets\n",
      "WARNING:absl:At this time, the v2.11+ optimizer `tf.keras.optimizers.RMSprop` runs slowly on M1/M2 Macs, please use the legacy Keras optimizer instead, located at `tf.keras.optimizers.legacy.RMSprop`.\n",
      "WARNING:absl:There is a known slowdown when using v2.11+ Keras optimizers on M1/M2 Macs. Falling back to the legacy Keras optimizer, i.e., `tf.keras.optimizers.legacy.RMSprop`.\n"
     ]
    },
    {
     "name": "stdout",
     "output_type": "stream",
     "text": [
      "Processing open GPAR3.SA\n",
      "INFO:tensorflow:Assets written to: trained-models/GPAR3.SA_open/assets\n"
     ]
    },
    {
     "name": "stderr",
     "output_type": "stream",
     "text": [
      "INFO:tensorflow:Assets written to: trained-models/GPAR3.SA_open/assets\n",
      "WARNING:absl:At this time, the v2.11+ optimizer `tf.keras.optimizers.RMSprop` runs slowly on M1/M2 Macs, please use the legacy Keras optimizer instead, located at `tf.keras.optimizers.legacy.RMSprop`.\n",
      "WARNING:absl:There is a known slowdown when using v2.11+ Keras optimizers on M1/M2 Macs. Falling back to the legacy Keras optimizer, i.e., `tf.keras.optimizers.legacy.RMSprop`.\n"
     ]
    },
    {
     "name": "stdout",
     "output_type": "stream",
     "text": [
      "Processing open TAEE11.SA\n",
      "INFO:tensorflow:Assets written to: trained-models/TAEE11.SA_open/assets\n"
     ]
    },
    {
     "name": "stderr",
     "output_type": "stream",
     "text": [
      "INFO:tensorflow:Assets written to: trained-models/TAEE11.SA_open/assets\n",
      "WARNING:absl:At this time, the v2.11+ optimizer `tf.keras.optimizers.RMSprop` runs slowly on M1/M2 Macs, please use the legacy Keras optimizer instead, located at `tf.keras.optimizers.legacy.RMSprop`.\n",
      "WARNING:absl:There is a known slowdown when using v2.11+ Keras optimizers on M1/M2 Macs. Falling back to the legacy Keras optimizer, i.e., `tf.keras.optimizers.legacy.RMSprop`.\n"
     ]
    },
    {
     "name": "stdout",
     "output_type": "stream",
     "text": [
      "Processing open ALUP11.SA\n",
      "INFO:tensorflow:Assets written to: trained-models/ALUP11.SA_open/assets\n"
     ]
    },
    {
     "name": "stderr",
     "output_type": "stream",
     "text": [
      "INFO:tensorflow:Assets written to: trained-models/ALUP11.SA_open/assets\n",
      "WARNING:absl:At this time, the v2.11+ optimizer `tf.keras.optimizers.RMSprop` runs slowly on M1/M2 Macs, please use the legacy Keras optimizer instead, located at `tf.keras.optimizers.legacy.RMSprop`.\n",
      "WARNING:absl:There is a known slowdown when using v2.11+ Keras optimizers on M1/M2 Macs. Falling back to the legacy Keras optimizer, i.e., `tf.keras.optimizers.legacy.RMSprop`.\n"
     ]
    },
    {
     "name": "stdout",
     "output_type": "stream",
     "text": [
      "Processing open CPFE3.SA\n",
      "INFO:tensorflow:Assets written to: trained-models/CPFE3.SA_open/assets\n"
     ]
    },
    {
     "name": "stderr",
     "output_type": "stream",
     "text": [
      "INFO:tensorflow:Assets written to: trained-models/CPFE3.SA_open/assets\n",
      "WARNING:absl:At this time, the v2.11+ optimizer `tf.keras.optimizers.RMSprop` runs slowly on M1/M2 Macs, please use the legacy Keras optimizer instead, located at `tf.keras.optimizers.legacy.RMSprop`.\n",
      "WARNING:absl:There is a known slowdown when using v2.11+ Keras optimizers on M1/M2 Macs. Falling back to the legacy Keras optimizer, i.e., `tf.keras.optimizers.legacy.RMSprop`.\n"
     ]
    },
    {
     "name": "stdout",
     "output_type": "stream",
     "text": [
      "Processing open CMIG3.SA\n",
      "INFO:tensorflow:Assets written to: trained-models/CMIG3.SA_open/assets\n"
     ]
    },
    {
     "name": "stderr",
     "output_type": "stream",
     "text": [
      "INFO:tensorflow:Assets written to: trained-models/CMIG3.SA_open/assets\n",
      "WARNING:absl:At this time, the v2.11+ optimizer `tf.keras.optimizers.RMSprop` runs slowly on M1/M2 Macs, please use the legacy Keras optimizer instead, located at `tf.keras.optimizers.legacy.RMSprop`.\n",
      "WARNING:absl:There is a known slowdown when using v2.11+ Keras optimizers on M1/M2 Macs. Falling back to the legacy Keras optimizer, i.e., `tf.keras.optimizers.legacy.RMSprop`.\n"
     ]
    },
    {
     "name": "stdout",
     "output_type": "stream",
     "text": [
      "Processing open ELET3.SA\n",
      "INFO:tensorflow:Assets written to: trained-models/ELET3.SA_open/assets\n"
     ]
    },
    {
     "name": "stderr",
     "output_type": "stream",
     "text": [
      "INFO:tensorflow:Assets written to: trained-models/ELET3.SA_open/assets\n",
      "WARNING:absl:At this time, the v2.11+ optimizer `tf.keras.optimizers.RMSprop` runs slowly on M1/M2 Macs, please use the legacy Keras optimizer instead, located at `tf.keras.optimizers.legacy.RMSprop`.\n",
      "WARNING:absl:There is a known slowdown when using v2.11+ Keras optimizers on M1/M2 Macs. Falling back to the legacy Keras optimizer, i.e., `tf.keras.optimizers.legacy.RMSprop`.\n"
     ]
    },
    {
     "name": "stdout",
     "output_type": "stream",
     "text": [
      "Processing open EQTL3.SA\n",
      "INFO:tensorflow:Assets written to: trained-models/EQTL3.SA_open/assets\n"
     ]
    },
    {
     "name": "stderr",
     "output_type": "stream",
     "text": [
      "INFO:tensorflow:Assets written to: trained-models/EQTL3.SA_open/assets\n",
      "WARNING:absl:At this time, the v2.11+ optimizer `tf.keras.optimizers.RMSprop` runs slowly on M1/M2 Macs, please use the legacy Keras optimizer instead, located at `tf.keras.optimizers.legacy.RMSprop`.\n",
      "WARNING:absl:There is a known slowdown when using v2.11+ Keras optimizers on M1/M2 Macs. Falling back to the legacy Keras optimizer, i.e., `tf.keras.optimizers.legacy.RMSprop`.\n"
     ]
    },
    {
     "name": "stdout",
     "output_type": "stream",
     "text": [
      "Processing open EGIE3.SA\n",
      "INFO:tensorflow:Assets written to: trained-models/EGIE3.SA_open/assets\n"
     ]
    },
    {
     "name": "stderr",
     "output_type": "stream",
     "text": [
      "INFO:tensorflow:Assets written to: trained-models/EGIE3.SA_open/assets\n",
      "WARNING:absl:At this time, the v2.11+ optimizer `tf.keras.optimizers.RMSprop` runs slowly on M1/M2 Macs, please use the legacy Keras optimizer instead, located at `tf.keras.optimizers.legacy.RMSprop`.\n",
      "WARNING:absl:There is a known slowdown when using v2.11+ Keras optimizers on M1/M2 Macs. Falling back to the legacy Keras optimizer, i.e., `tf.keras.optimizers.legacy.RMSprop`.\n"
     ]
    },
    {
     "name": "stdout",
     "output_type": "stream",
     "text": [
      "Processing open VALE3.SA\n",
      "INFO:tensorflow:Assets written to: trained-models/VALE3.SA_open/assets\n"
     ]
    },
    {
     "name": "stderr",
     "output_type": "stream",
     "text": [
      "INFO:tensorflow:Assets written to: trained-models/VALE3.SA_open/assets\n",
      "WARNING:absl:At this time, the v2.11+ optimizer `tf.keras.optimizers.RMSprop` runs slowly on M1/M2 Macs, please use the legacy Keras optimizer instead, located at `tf.keras.optimizers.legacy.RMSprop`.\n",
      "WARNING:absl:There is a known slowdown when using v2.11+ Keras optimizers on M1/M2 Macs. Falling back to the legacy Keras optimizer, i.e., `tf.keras.optimizers.legacy.RMSprop`.\n"
     ]
    },
    {
     "name": "stdout",
     "output_type": "stream",
     "text": [
      "Processing open GGBR3.SA\n",
      "INFO:tensorflow:Assets written to: trained-models/GGBR3.SA_open/assets\n"
     ]
    },
    {
     "name": "stderr",
     "output_type": "stream",
     "text": [
      "INFO:tensorflow:Assets written to: trained-models/GGBR3.SA_open/assets\n",
      "WARNING:absl:At this time, the v2.11+ optimizer `tf.keras.optimizers.RMSprop` runs slowly on M1/M2 Macs, please use the legacy Keras optimizer instead, located at `tf.keras.optimizers.legacy.RMSprop`.\n",
      "WARNING:absl:There is a known slowdown when using v2.11+ Keras optimizers on M1/M2 Macs. Falling back to the legacy Keras optimizer, i.e., `tf.keras.optimizers.legacy.RMSprop`.\n"
     ]
    },
    {
     "name": "stdout",
     "output_type": "stream",
     "text": [
      "Processing open CSNA3.SA\n",
      "INFO:tensorflow:Assets written to: trained-models/CSNA3.SA_open/assets\n"
     ]
    },
    {
     "name": "stderr",
     "output_type": "stream",
     "text": [
      "INFO:tensorflow:Assets written to: trained-models/CSNA3.SA_open/assets\n",
      "WARNING:absl:At this time, the v2.11+ optimizer `tf.keras.optimizers.RMSprop` runs slowly on M1/M2 Macs, please use the legacy Keras optimizer instead, located at `tf.keras.optimizers.legacy.RMSprop`.\n",
      "WARNING:absl:There is a known slowdown when using v2.11+ Keras optimizers on M1/M2 Macs. Falling back to the legacy Keras optimizer, i.e., `tf.keras.optimizers.legacy.RMSprop`.\n"
     ]
    },
    {
     "name": "stdout",
     "output_type": "stream",
     "text": [
      "Processing open FESA4.SA\n",
      "INFO:tensorflow:Assets written to: trained-models/FESA4.SA_open/assets\n"
     ]
    },
    {
     "name": "stderr",
     "output_type": "stream",
     "text": [
      "INFO:tensorflow:Assets written to: trained-models/FESA4.SA_open/assets\n"
     ]
    }
   ],
   "source": [
    "import sys\n",
    "import os\n",
    "os.environ['TF_CPP_MIN_LOG_LEVEL'] = '1'\n",
    "import tensorflow as tf\n",
    "\n",
    "keras = tf.keras\n",
    "layers = tf.keras.layers\n",
    "activations = tf.keras.activations\n",
    "\n",
    "# Receiving parameters\n",
    "OUTPUT_MODEL_PATH = \"trained-models/\"\n",
    "EPOCHS = 10000\n",
    "\n",
    "for asset in assets:\n",
    "    print(f\"Processing open {asset}\")\n",
    "\n",
    "    processed_data = []\n",
    "    ticker_date = indicators[asset][\"date\"][-1]\n",
    "    number_of_lines = len(indicators_scaled[asset][\"aroon\"])\n",
    "    for i in range(0, number_of_lines):\n",
    "        if ticker_date == indicators[asset][\"date\"][i]:\n",
    "            break\n",
    "\n",
    "        processed_data.append([\n",
    "            indicators[asset][\"date\"][i],\n",
    "            [indicators[asset][\"next_trend_open\"][i]],\n",
    "            indicators_scaled[asset][\"trend_high\"][i],\n",
    "            indicators_scaled[asset][\"trend_low\"][i],\n",
    "            indicators_scaled[asset][\"trend_open\"][i],\n",
    "            indicators_scaled[asset][\"trend_close\"][i],\n",
    "            indicators_scaled[asset][\"aroon\"][i],\n",
    "            indicators_scaled[asset][\"aroon_down\"][i],\n",
    "            indicators_scaled[asset][\"aroon_up\"][i],\n",
    "            indicators_scaled[asset][\"cmf\"][i],\n",
    "            indicators_scaled[asset][\"mfi\"][i],\n",
    "            indicators_scaled[asset][\"ppo\"][i],\n",
    "            indicators_scaled[asset][\"pvo\"][i],\n",
    "            indicators_scaled[asset][\"rsi\"][i],\n",
    "            indicators_scaled[asset][\"stc\"][i],\n",
    "            indicators_scaled[asset][\"williamsr\"][i]\n",
    "        ])\n",
    "\n",
    "    # Model training\n",
    "    train_input_data_x = np.array([d[2:] for d in processed_data])\n",
    "    train_input_data_y = np.array([d[1:2] for d in processed_data])\n",
    "\n",
    "    # Define Sequential model\n",
    "    model = keras.Sequential()\n",
    "    model.add(layers.Dense(len(train_input_data_x[0]), input_shape=(len(train_input_data_x[0]),), activation=\"sigmoid\", name=\"layer1\"))\n",
    "    model.add(layers.Dense(20, activation=\"sigmoid\", name=\"layer2\"))\n",
    "    model.add(layers.Dense(10, activation=\"sigmoid\", name=\"layer3\"))\n",
    "    model.add(layers.Dense(1, name=\"layer4\"))\n",
    "\n",
    "    model.compile(\n",
    "        optimizer=keras.optimizers.RMSprop(),  # Optimizer\n",
    "        # Loss function to minimize\n",
    "        loss=keras.losses.MeanSquaredError(),\n",
    "    )\n",
    "\n",
    "    model_trained = model.fit(\n",
    "        train_input_data_x,\n",
    "        train_input_data_y,\n",
    "        batch_size=512,\n",
    "        epochs=int(EPOCHS),\n",
    "        verbose=0\n",
    "    )\n",
    "\n",
    "    model.save(f\"{OUTPUT_MODEL_PATH}{asset}_open\")"
   ]
  },
  {
   "cell_type": "code",
   "execution_count": null,
   "id": "c2f5e39e-6b0a-4214-ac7e-32a431ddc5f9",
   "metadata": {
    "tags": []
   },
   "outputs": [],
   "source": [
    "import sys\n",
    "import os\n",
    "os.environ['TF_CPP_MIN_LOG_LEVEL'] = '1'\n",
    "import tensorflow as tf\n",
    "\n",
    "keras = tf.keras\n",
    "layers = tf.keras.layers\n",
    "activations = tf.keras.activations\n",
    "\n",
    "# Receiving parameters\n",
    "OUTPUT_MODEL_PATH = \"trained-models/\"\n",
    "EPOCHS = 10000\n",
    "\n",
    "for asset in assets:\n",
    "    print(f\"Processing close {asset}\")\n",
    "\n",
    "    processed_data = []\n",
    "    ticker_date = indicators[asset][\"date\"][-1]\n",
    "    number_of_lines = len(indicators_scaled[asset][\"aroon\"])\n",
    "    for i in range(0, number_of_lines):\n",
    "        if ticker_date == indicators[asset][\"date\"][i]:\n",
    "            break\n",
    "\n",
    "        processed_data.append([\n",
    "            indicators[asset][\"date\"][i],\n",
    "            [indicators[asset][\"next_trend_close\"][i]],\n",
    "            indicators_scaled[asset][\"trend_high\"][i],\n",
    "            indicators_scaled[asset][\"trend_low\"][i],\n",
    "            indicators_scaled[asset][\"trend_open\"][i],\n",
    "            indicators_scaled[asset][\"trend_close\"][i],\n",
    "            indicators_scaled[asset][\"aroon\"][i],\n",
    "            indicators_scaled[asset][\"aroon_down\"][i],\n",
    "            indicators_scaled[asset][\"aroon_up\"][i],\n",
    "            indicators_scaled[asset][\"cmf\"][i],\n",
    "            indicators_scaled[asset][\"mfi\"][i],\n",
    "            indicators_scaled[asset][\"ppo\"][i],\n",
    "            indicators_scaled[asset][\"pvo\"][i],\n",
    "            indicators_scaled[asset][\"rsi\"][i],\n",
    "            indicators_scaled[asset][\"stc\"][i],\n",
    "            indicators_scaled[asset][\"williamsr\"][i]\n",
    "        ])\n",
    "\n",
    "    # Model training\n",
    "    train_input_data_x = np.array([d[2:] for d in processed_data])\n",
    "    train_input_data_y = np.array([d[1:2] for d in processed_data])\n",
    "\n",
    "    # Define Sequential model\n",
    "    model = keras.Sequential()\n",
    "    model.add(layers.Dense(len(train_input_data_x[0]), input_shape=(len(train_input_data_x[0]),), activation=\"sigmoid\", name=\"layer1\"))\n",
    "    model.add(layers.Dense(20, activation=\"sigmoid\", name=\"layer2\"))\n",
    "    model.add(layers.Dense(10, activation=\"sigmoid\", name=\"layer3\"))\n",
    "    model.add(layers.Dense(1, name=\"layer4\"))\n",
    "\n",
    "    model.compile(\n",
    "        optimizer=keras.optimizers.RMSprop(),  # Optimizer\n",
    "        # Loss function to minimize\n",
    "        loss=keras.losses.MeanSquaredError(),\n",
    "    )\n",
    "\n",
    "    model_trained = model.fit(\n",
    "        train_input_data_x,\n",
    "        train_input_data_y,\n",
    "        batch_size=512,\n",
    "        epochs=int(EPOCHS),\n",
    "        verbose=0\n",
    "    )\n",
    "\n",
    "    model.save(f\"{OUTPUT_MODEL_PATH}{asset}_close\")"
   ]
  },
  {
   "cell_type": "code",
   "execution_count": null,
   "id": "ce399190-90fa-4dda-9384-123a2eef5c8a",
   "metadata": {},
   "outputs": [],
   "source": []
  }
 ],
 "metadata": {
  "kernelspec": {
   "display_name": "Python 3 (ipykernel)",
   "language": "python",
   "name": "python3"
  },
  "language_info": {
   "codemirror_mode": {
    "name": "ipython",
    "version": 3
   },
   "file_extension": ".py",
   "mimetype": "text/x-python",
   "name": "python",
   "nbconvert_exporter": "python",
   "pygments_lexer": "ipython3",
   "version": "3.10.13"
  }
 },
 "nbformat": 4,
 "nbformat_minor": 5
}
